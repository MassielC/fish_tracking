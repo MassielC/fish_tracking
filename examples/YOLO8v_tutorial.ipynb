{
  "nbformat": 4,
  "nbformat_minor": 0,
  "metadata": {
    "colab": {
      "name": "YOLOv8 Tutorial",
      "provenance": [],
      "include_colab_link": true
    },
    "kernelspec": {
      "name": "python3",
      "display_name": "Python 3"
    },
    "accelerator": "GPU"
  },
  "cells": [
    {
      "cell_type": "markdown",
      "metadata": {
        "id": "view-in-github",
        "colab_type": "text"
      },
      "source": [
        "<a href=\"https://colab.research.google.com/github/MassielC/fish_tracking/blob/main/examples/YOLO8v_tutorial.ipynb\" target=\"_parent\"><img src=\"https://colab.research.google.com/assets/colab-badge.svg\" alt=\"Open In Colab\"/></a>"
      ]
    },
    {
      "cell_type": "markdown",
      "metadata": {
        "id": "t6MPjfT5NrKQ"
      },
      "source": [
        "<div align=\"center\">\n",
        "\n",
        "  <a href=\"https://ultralytics.com/yolov8\" target=\"_blank\">\n",
        "    <img width=\"1024\", src=\"https://raw.githubusercontent.com/ultralytics/assets/main/yolov8/banner-yolov8.png\"></a>\n",
        "\n",
        "  [中文](https://docs.ultralytics.com/zh/) | [한국어](https://docs.ultralytics.com/ko/) | [日本語](https://docs.ultralytics.com/ja/) | [Русский](https://docs.ultralytics.com/ru/) | [Deutsch](https://docs.ultralytics.com/de/) | [Français](https://docs.ultralytics.com/fr/) | [Español](https://docs.ultralytics.com/es/) | [Português](https://docs.ultralytics.com/pt/) | [Türkçe](https://docs.ultralytics.com/tr/) | [Tiếng Việt](https://docs.ultralytics.com/vi/) | [हिन्दी](https://docs.ultralytics.com/hi/) | [العربية](https://docs.ultralytics.com/ar/)\n",
        "\n",
        "  <a href=\"https://github.com/ultralytics/ultralytics/actions/workflows/ci.yaml\"><img src=\"https://github.com/ultralytics/ultralytics/actions/workflows/ci.yaml/badge.svg\" alt=\"Ultralytics CI\"></a>\n",
        "  <a href=\"https://console.paperspace.com/github/ultralytics/ultralytics\"><img src=\"https://assets.paperspace.io/img/gradient-badge.svg\" alt=\"Run on Gradient\"/></a>\n",
        "  <a href=\"https://colab.research.google.com/github/ultralytics/ultralytics/blob/main/examples/tutorial.ipynb\"><img src=\"https://colab.research.google.com/assets/colab-badge.svg\" alt=\"Open In Colab\"></a>\n",
        "  <a href=\"https://www.kaggle.com/ultralytics/yolov8\"><img src=\"https://kaggle.com/static/images/open-in-kaggle.svg\" alt=\"Open In Kaggle\"></a>\n",
        "  <a href=\"https://ultralytics.com/discord\"><img alt=\"Discord\" src=\"https://img.shields.io/discord/1089800235347353640?logo=discord&logoColor=white&label=Discord&color=blue\"></a>\n",
        "\n",
        "Welcome to the Ultralytics YOLOv8 🚀 notebook! <a href=\"https://github.com/ultralytics/ultralytics\">YOLOv8</a> is the latest version of the YOLO (You Only Look Once) AI models developed by <a href=\"https://ultralytics.com\">Ultralytics</a>. This notebook serves as the starting point for exploring the various resources available to help you get started with YOLOv8 and understand its features and capabilities.\n",
        "\n",
        "YOLOv8 models are fast, accurate, and easy to use, making them ideal for various object detection and image segmentation tasks. They can be trained on large datasets and run on diverse hardware platforms, from CPUs to GPUs.\n",
        "\n",
        "We hope that the resources in this notebook will help you get the most out of YOLOv8. Please browse the YOLOv8 <a href=\"https://docs.ultralytics.com/\">Docs</a> for details, raise an issue on <a href=\"https://github.com/ultralytics/ultralytics\">GitHub</a> for support, and join our <a href=\"https://ultralytics.com/discord\">Discord</a> community for questions and discussions!\n",
        "\n",
        "</div>"
      ]
    },
    {
      "cell_type": "markdown",
      "metadata": {
        "id": "7mGmQbAO5pQb"
      },
      "source": [
        "# Setup\n",
        "\n",
        "Pip install `ultralytics` and [dependencies](https://github.com/ultralytics/ultralytics/blob/main/pyproject.toml) and check software and hardware.\n",
        "\n",
        "[![PyPI - Version](https://img.shields.io/pypi/v/ultralytics?logo=pypi&logoColor=white)](https://pypi.org/project/ultralytics/) [![Downloads](https://static.pepy.tech/badge/ultralytics)](https://pepy.tech/project/ultralytics) [![PyPI - Python Version](https://img.shields.io/pypi/pyversions/ultralytics?logo=python&logoColor=gold)](https://pypi.org/project/ultralytics/)"
      ]
    },
    {
      "cell_type": "code",
      "metadata": {
        "id": "wbvMlHd_QwMG",
        "colab": {
          "base_uri": "https://localhost:8080/"
        },
        "outputId": "96335d4c-20a9-4864-f7a4-bb2eb0077a9d"
      },
      "source": [
        "%pip install ultralytics\n",
        "import ultralytics\n",
        "ultralytics.checks()"
      ],
      "execution_count": null,
      "outputs": [
        {
          "output_type": "stream",
          "name": "stdout",
          "text": [
            "Ultralytics YOLOv8.2.3 🚀 Python-3.10.12 torch-2.2.1+cu121 CUDA:0 (Tesla T4, 15102MiB)\n",
            "Setup complete ✅ (2 CPUs, 12.7 GB RAM, 28.8/78.2 GB disk)\n"
          ]
        }
      ]
    },
    {
      "cell_type": "markdown",
      "metadata": {
        "id": "4JnkELT0cIJg"
      },
      "source": [
        "# 1. Predict\n",
        "\n",
        "YOLOv8 may be used directly in the Command Line Interface (CLI) with a `yolo` command for a variety of tasks and modes and accepts additional arguments, i.e. `imgsz=640`. See a full list of available `yolo` [arguments](https://docs.ultralytics.com/usage/cfg/) and other details in the [YOLOv8 Predict Docs](https://docs.ultralytics.com/modes/train/).\n"
      ]
    },
    {
      "cell_type": "code",
      "metadata": {
        "id": "zR9ZbuQCH7FX",
        "colab": {
          "base_uri": "https://localhost:8080/"
        },
        "outputId": "84f32db2-80b0-4f35-9a2a-a56d11f7863f"
      },
      "source": [
        "# Run inference on an image with YOLOv8n\n",
        "!yolo predict model=yolov8n.pt source='https://ultralytics.com/images/zidane.jpg'"
      ],
      "execution_count": null,
      "outputs": [
        {
          "output_type": "stream",
          "name": "stdout",
          "text": [
            "Downloading https://github.com/ultralytics/assets/releases/download/v8.2.0/yolov8n.pt to 'yolov8n.pt'...\n",
            "100% 6.23M/6.23M [00:00<00:00, 83.2MB/s]\n",
            "Ultralytics YOLOv8.2.3 🚀 Python-3.10.12 torch-2.2.1+cu121 CUDA:0 (Tesla T4, 15102MiB)\n",
            "YOLOv8n summary (fused): 168 layers, 3151904 parameters, 0 gradients, 8.7 GFLOPs\n",
            "\n",
            "Downloading https://ultralytics.com/images/zidane.jpg to 'zidane.jpg'...\n",
            "100% 165k/165k [00:00<00:00, 11.1MB/s]\n",
            "image 1/1 /content/zidane.jpg: 384x640 2 persons, 1 tie, 21.4ms\n",
            "Speed: 1.9ms preprocess, 21.4ms inference, 6.2ms postprocess per image at shape (1, 3, 384, 640)\n",
            "Results saved to \u001b[1mruns/detect/predict\u001b[0m\n",
            "💡 Learn more at https://docs.ultralytics.com/modes/predict\n"
          ]
        }
      ]
    },
    {
      "cell_type": "markdown",
      "metadata": {
        "id": "hkAzDWJ7cWTr"
      },
      "source": [
        "&nbsp;&nbsp;&nbsp;&nbsp;&nbsp;&nbsp;&nbsp;&nbsp;\n",
        "<img align=\"left\" src=\"https://user-images.githubusercontent.com/26833433/212889447-69e5bdf1-5800-4e29-835e-2ed2336dede2.jpg\" width=\"600\">"
      ]
    },
    {
      "cell_type": "markdown",
      "metadata": {
        "id": "0eq1SMWl6Sfn"
      },
      "source": [
        "# 2. Val\n",
        "Validate a model's accuracy on the [COCO](https://docs.ultralytics.com/datasets/detect/coco/) dataset's `val` or `test` splits. The latest YOLOv8 [models](https://github.com/ultralytics/ultralytics#models) are downloaded automatically the first time they are used. See [YOLOv8 Val Docs](https://docs.ultralytics.com/modes/val/) for more information."
      ]
    },
    {
      "cell_type": "code",
      "metadata": {
        "id": "WQPtK1QYVaD_"
      },
      "source": [
        "# Download COCO val\n",
        "#import torch\n",
        "#torch.hub.download_url_to_file('https://ultralytics.com/assets/coco2017val.zip', 'tmp.zip')  # download (780M - 5000 images)\n",
        "#!unzip -q tmp.zip -d datasets && rm tmp.zip  # unzip\n",
        "!unzip -q fish_training.zip -d datasets"
      ],
      "execution_count": 13,
      "outputs": []
    },
    {
      "cell_type": "code",
      "metadata": {
        "id": "X58w8JLpMnjH",
        "outputId": "aa00dec2-a4c4-4505-a515-adb282635ea2",
        "colab": {
          "base_uri": "https://localhost:8080/"
        }
      },
      "source": [
        "# Validate YOLOv8n on COCO8 val\n",
        "!yolo val model=yolov8n.pt data=coco8.yaml"
      ],
      "execution_count": 8,
      "outputs": [
        {
          "output_type": "stream",
          "name": "stdout",
          "text": [
            "Ultralytics YOLOv8.2.49 🚀 Python-3.10.12 torch-2.3.0+cu121 CPU (Intel Xeon 2.20GHz)\n",
            "YOLOv8n summary (fused): 168 layers, 3151904 parameters, 0 gradients, 8.7 GFLOPs\n",
            "\n",
            "Dataset 'coco8.yaml' images not found ⚠️, missing path '/content/datasets/coco8/images/val'\n",
            "Downloading https://ultralytics.com/assets/coco8.zip to '/content/datasets/coco8.zip'...\n",
            "100% 433k/433k [00:00<00:00, 17.8MB/s]\n",
            "Unzipping /content/datasets/coco8.zip to /content/datasets/coco8...: 100% 25/25 [00:00<00:00, 2498.99file/s]\n",
            "Dataset download success ✅ (1.3s), saved to \u001b[1m/content/datasets\u001b[0m\n",
            "\n",
            "Downloading https://ultralytics.com/assets/Arial.ttf to '/root/.config/Ultralytics/Arial.ttf'...\n",
            "100% 755k/755k [00:00<00:00, 21.3MB/s]\n",
            "\u001b[34m\u001b[1mval: \u001b[0mScanning /content/datasets/coco8/labels/val... 4 images, 0 backgrounds, 0 corrupt: 100% 4/4 [00:00<00:00, 142.55it/s]\n",
            "\u001b[34m\u001b[1mval: \u001b[0mNew cache created: /content/datasets/coco8/labels/val.cache\n",
            "                 Class     Images  Instances      Box(P          R      mAP50  mAP50-95): 100% 1/1 [00:01<00:00,  1.37s/it]\n",
            "                   all          4         17      0.621      0.833      0.888       0.63\n",
            "                person          3         10      0.721        0.5      0.519      0.269\n",
            "                   dog          1          1       0.37          1      0.995      0.597\n",
            "                 horse          1          2      0.751          1      0.995      0.631\n",
            "              elephant          1          2      0.505        0.5      0.828      0.394\n",
            "              umbrella          1          1      0.564          1      0.995      0.995\n",
            "          potted plant          1          1      0.814          1      0.995      0.895\n",
            "Speed: 7.2ms preprocess, 299.6ms inference, 0.0ms loss, 6.8ms postprocess per image\n",
            "Results saved to \u001b[1mruns/detect/val\u001b[0m\n",
            "💡 Learn more at https://docs.ultralytics.com/modes/val\n"
          ]
        }
      ]
    },
    {
      "cell_type": "markdown",
      "metadata": {
        "id": "ZY2VXXXu74w5"
      },
      "source": [
        "# 3. Train\n",
        "\n",
        "<p align=\"\"><a href=\"https://ultralytics.com/hub\"><img width=\"1000\" src=\"https://github.com/ultralytics/assets/raw/main/yolov8/banner-integrations.png\"/></a></p>\n",
        "\n",
        "Train YOLOv8 on [Detect](https://docs.ultralytics.com/tasks/detect/), [Segment](https://docs.ultralytics.com/tasks/segment/), [Classify](https://docs.ultralytics.com/tasks/classify/) and [Pose](https://docs.ultralytics.com/tasks/pose/) datasets. See [YOLOv8 Train Docs](https://docs.ultralytics.com/modes/train/) for more information."
      ]
    },
    {
      "cell_type": "code",
      "source": [
        "#@title Select YOLOv8 🚀 logger {run: 'auto'}\n",
        "logger = 'Comet' #@param ['Comet', 'TensorBoard']\n",
        "\n",
        "if logger == 'Comet':\n",
        "  %pip install -q comet_ml\n",
        "  import comet_ml; comet_ml.init()\n",
        "elif logger == 'TensorBoard':\n",
        "  %load_ext tensorboard\n",
        "  %tensorboard --logdir ."
      ],
      "metadata": {
        "id": "ktegpM42AooT"
      },
      "execution_count": null,
      "outputs": []
    },
    {
      "cell_type": "code",
      "metadata": {
        "id": "1NcFxRcFdJ_O",
        "outputId": "641b6a05-4402-4beb-c6b9-1aaa6edf4388",
        "colab": {
          "base_uri": "https://localhost:8080/"
        }
      },
      "source": [
        "# Train YOLOv8n on COCO8 for 3 epochs\n",
        "!yolo train model=yolov8n.pt data=custom_data.yaml epochs=80 imgsz=640"
      ],
      "execution_count": 17,
      "outputs": [
        {
          "output_type": "stream",
          "name": "stdout",
          "text": [
            "Ultralytics YOLOv8.2.49 🚀 Python-3.10.12 torch-2.3.0+cu121 CPU (Intel Xeon 2.20GHz)\n",
            "\u001b[34m\u001b[1mengine/trainer: \u001b[0mtask=detect, mode=train, model=yolov8n.pt, data=custom_data.yaml, epochs=80, time=None, patience=100, batch=16, imgsz=640, save=True, save_period=-1, cache=False, device=None, workers=8, project=None, name=train7, exist_ok=False, pretrained=True, optimizer=auto, verbose=True, seed=0, deterministic=True, single_cls=False, rect=False, cos_lr=False, close_mosaic=10, resume=False, amp=True, fraction=1.0, profile=False, freeze=None, multi_scale=False, overlap_mask=True, mask_ratio=4, dropout=0.0, val=True, split=val, save_json=False, save_hybrid=False, conf=None, iou=0.7, max_det=300, half=False, dnn=False, plots=True, source=None, vid_stride=1, stream_buffer=False, visualize=False, augment=False, agnostic_nms=False, classes=None, retina_masks=False, embed=None, show=False, save_frames=False, save_txt=False, save_conf=False, save_crop=False, show_labels=True, show_conf=True, show_boxes=True, line_width=None, format=torchscript, keras=False, optimize=False, int8=False, dynamic=False, simplify=False, opset=None, workspace=4, nms=False, lr0=0.01, lrf=0.01, momentum=0.937, weight_decay=0.0005, warmup_epochs=3.0, warmup_momentum=0.8, warmup_bias_lr=0.1, box=7.5, cls=0.5, dfl=1.5, pose=12.0, kobj=1.0, label_smoothing=0.0, nbs=64, hsv_h=0.015, hsv_s=0.7, hsv_v=0.4, degrees=0.0, translate=0.1, scale=0.5, shear=0.0, perspective=0.0, flipud=0.0, fliplr=0.5, bgr=0.0, mosaic=1.0, mixup=0.0, copy_paste=0.0, auto_augment=randaugment, erasing=0.4, crop_fraction=1.0, cfg=None, tracker=botsort.yaml, save_dir=runs/detect/train7\n",
            "Overriding model.yaml nc=80 with nc=1\n",
            "\n",
            "                   from  n    params  module                                       arguments                     \n",
            "  0                  -1  1       464  ultralytics.nn.modules.conv.Conv             [3, 16, 3, 2]                 \n",
            "  1                  -1  1      4672  ultralytics.nn.modules.conv.Conv             [16, 32, 3, 2]                \n",
            "  2                  -1  1      7360  ultralytics.nn.modules.block.C2f             [32, 32, 1, True]             \n",
            "  3                  -1  1     18560  ultralytics.nn.modules.conv.Conv             [32, 64, 3, 2]                \n",
            "  4                  -1  2     49664  ultralytics.nn.modules.block.C2f             [64, 64, 2, True]             \n",
            "  5                  -1  1     73984  ultralytics.nn.modules.conv.Conv             [64, 128, 3, 2]               \n",
            "  6                  -1  2    197632  ultralytics.nn.modules.block.C2f             [128, 128, 2, True]           \n",
            "  7                  -1  1    295424  ultralytics.nn.modules.conv.Conv             [128, 256, 3, 2]              \n",
            "  8                  -1  1    460288  ultralytics.nn.modules.block.C2f             [256, 256, 1, True]           \n",
            "  9                  -1  1    164608  ultralytics.nn.modules.block.SPPF            [256, 256, 5]                 \n",
            " 10                  -1  1         0  torch.nn.modules.upsampling.Upsample         [None, 2, 'nearest']          \n",
            " 11             [-1, 6]  1         0  ultralytics.nn.modules.conv.Concat           [1]                           \n",
            " 12                  -1  1    148224  ultralytics.nn.modules.block.C2f             [384, 128, 1]                 \n",
            " 13                  -1  1         0  torch.nn.modules.upsampling.Upsample         [None, 2, 'nearest']          \n",
            " 14             [-1, 4]  1         0  ultralytics.nn.modules.conv.Concat           [1]                           \n",
            " 15                  -1  1     37248  ultralytics.nn.modules.block.C2f             [192, 64, 1]                  \n",
            " 16                  -1  1     36992  ultralytics.nn.modules.conv.Conv             [64, 64, 3, 2]                \n",
            " 17            [-1, 12]  1         0  ultralytics.nn.modules.conv.Concat           [1]                           \n",
            " 18                  -1  1    123648  ultralytics.nn.modules.block.C2f             [192, 128, 1]                 \n",
            " 19                  -1  1    147712  ultralytics.nn.modules.conv.Conv             [128, 128, 3, 2]              \n",
            " 20             [-1, 9]  1         0  ultralytics.nn.modules.conv.Concat           [1]                           \n",
            " 21                  -1  1    493056  ultralytics.nn.modules.block.C2f             [384, 256, 1]                 \n",
            " 22        [15, 18, 21]  1    751507  ultralytics.nn.modules.head.Detect           [1, [64, 128, 256]]           \n",
            "Model summary: 225 layers, 3011043 parameters, 3011027 gradients, 8.2 GFLOPs\n",
            "\n",
            "Transferred 319/355 items from pretrained weights\n",
            "\u001b[34m\u001b[1mTensorBoard: \u001b[0mStart with 'tensorboard --logdir runs/detect/train7', view at http://localhost:6006/\n",
            "Freezing layer 'model.22.dfl.conv.weight'\n",
            "\u001b[34m\u001b[1mtrain: \u001b[0mScanning /content/fish_training/labels/train.cache... 21 images, 0 backgrounds, 0 corrupt: 100% 21/21 [00:00<?, ?it/s]\n",
            "\u001b[34m\u001b[1malbumentations: \u001b[0mBlur(p=0.01, blur_limit=(3, 7)), MedianBlur(p=0.01, blur_limit=(3, 7)), ToGray(p=0.01), CLAHE(p=0.01, clip_limit=(1, 4.0), tile_grid_size=(8, 8))\n",
            "\u001b[34m\u001b[1mval: \u001b[0mScanning /content/fish_training/labels/val.cache... 8 images, 0 backgrounds, 0 corrupt: 100% 8/8 [00:00<?, ?it/s]\n",
            "Plotting labels to runs/detect/train7/labels.jpg... \n",
            "\u001b[34m\u001b[1moptimizer:\u001b[0m 'optimizer=auto' found, ignoring 'lr0=0.01' and 'momentum=0.937' and determining best 'optimizer', 'lr0' and 'momentum' automatically... \n",
            "\u001b[34m\u001b[1moptimizer:\u001b[0m AdamW(lr=0.002, momentum=0.9) with parameter groups 57 weight(decay=0.0), 64 weight(decay=0.0005), 63 bias(decay=0.0)\n",
            "\u001b[34m\u001b[1mTensorBoard: \u001b[0mmodel graph visualization added ✅\n",
            "Image sizes 640 train, 640 val\n",
            "Using 0 dataloader workers\n",
            "Logging results to \u001b[1mruns/detect/train7\u001b[0m\n",
            "Starting training for 80 epochs...\n",
            "\n",
            "      Epoch    GPU_mem   box_loss   cls_loss   dfl_loss  Instances       Size\n",
            "       1/80         0G      2.183      3.554      1.828         35        640: 100% 2/2 [00:26<00:00, 13.25s/it]\n",
            "                 Class     Images  Instances      Box(P          R      mAP50  mAP50-95): 100% 1/1 [00:02<00:00,  2.65s/it]\n",
            "                   all          8         64    0.00125     0.0469   0.000654   0.000303\n",
            "\n",
            "      Epoch    GPU_mem   box_loss   cls_loss   dfl_loss  Instances       Size\n",
            "       2/80         0G      2.121      3.481      1.882         53        640: 100% 2/2 [00:22<00:00, 11.10s/it]\n",
            "                 Class     Images  Instances      Box(P          R      mAP50  mAP50-95): 100% 1/1 [00:02<00:00,  2.18s/it]\n",
            "                   all          8         64    0.00583      0.219    0.00358    0.00156\n",
            "\n",
            "      Epoch    GPU_mem   box_loss   cls_loss   dfl_loss  Instances       Size\n",
            "       3/80         0G      2.089      3.526      1.742         98        640: 100% 2/2 [00:19<00:00,  9.97s/it]\n",
            "                 Class     Images  Instances      Box(P          R      mAP50  mAP50-95): 100% 1/1 [00:02<00:00,  2.99s/it]\n",
            "                   all          8         64     0.0125      0.469     0.0105    0.00443\n",
            "\n",
            "      Epoch    GPU_mem   box_loss   cls_loss   dfl_loss  Instances       Size\n",
            "       4/80         0G      1.911      3.222      1.664         69        640: 100% 2/2 [00:19<00:00,  9.62s/it]\n",
            "                 Class     Images  Instances      Box(P          R      mAP50  mAP50-95): 100% 1/1 [00:02<00:00,  2.18s/it]\n",
            "                   all          8         64       0.02       0.75     0.0311     0.0134\n",
            "\n",
            "      Epoch    GPU_mem   box_loss   cls_loss   dfl_loss  Instances       Size\n",
            "       5/80         0G      1.806      2.979      1.546         65        640: 100% 2/2 [00:20<00:00, 10.41s/it]\n",
            "                 Class     Images  Instances      Box(P          R      mAP50  mAP50-95): 100% 1/1 [00:02<00:00,  2.16s/it]\n",
            "                   all          8         64     0.0221      0.828     0.0534     0.0223\n",
            "\n",
            "      Epoch    GPU_mem   box_loss   cls_loss   dfl_loss  Instances       Size\n",
            "       6/80         0G      1.791      2.471      1.516         46        640: 100% 2/2 [00:19<00:00,  9.65s/it]\n",
            "                 Class     Images  Instances      Box(P          R      mAP50  mAP50-95): 100% 1/1 [00:02<00:00,  2.18s/it]\n",
            "                   all          8         64     0.0246      0.922      0.115     0.0427\n",
            "\n",
            "      Epoch    GPU_mem   box_loss   cls_loss   dfl_loss  Instances       Size\n",
            "       7/80         0G      1.669      2.197      1.381         77        640: 100% 2/2 [00:20<00:00, 10.05s/it]\n",
            "                 Class     Images  Instances      Box(P          R      mAP50  mAP50-95): 100% 1/1 [00:02<00:00,  2.17s/it]\n",
            "                   all          8         64     0.0242      0.906      0.346      0.106\n",
            "\n",
            "      Epoch    GPU_mem   box_loss   cls_loss   dfl_loss  Instances       Size\n",
            "       8/80         0G      1.648      1.672      1.341         75        640: 100% 2/2 [00:19<00:00,  9.57s/it]\n",
            "                 Class     Images  Instances      Box(P          R      mAP50  mAP50-95): 100% 1/1 [00:02<00:00,  2.60s/it]\n",
            "                   all          8         64     0.0475      0.906        0.3      0.121\n",
            "\n",
            "      Epoch    GPU_mem   box_loss   cls_loss   dfl_loss  Instances       Size\n",
            "       9/80         0G      1.598      1.556      1.372         56        640: 100% 2/2 [00:19<00:00,  9.53s/it]\n",
            "                 Class     Images  Instances      Box(P          R      mAP50  mAP50-95): 100% 1/1 [00:02<00:00,  2.20s/it]\n",
            "                   all          8         64     0.0485      0.875      0.365      0.147\n",
            "\n",
            "      Epoch    GPU_mem   box_loss   cls_loss   dfl_loss  Instances       Size\n",
            "      10/80         0G      1.437      1.356      1.266         52        640: 100% 2/2 [00:19<00:00,  9.65s/it]\n",
            "                 Class     Images  Instances      Box(P          R      mAP50  mAP50-95): 100% 1/1 [00:02<00:00,  2.91s/it]\n",
            "                   all          8         64     0.0229      0.859       0.41      0.187\n",
            "\n",
            "      Epoch    GPU_mem   box_loss   cls_loss   dfl_loss  Instances       Size\n",
            "      11/80         0G      1.387       1.38      1.252         54        640: 100% 2/2 [00:18<00:00,  9.47s/it]\n",
            "                 Class     Images  Instances      Box(P          R      mAP50  mAP50-95): 100% 1/1 [00:02<00:00,  2.18s/it]\n",
            "                   all          8         64     0.0221      0.828      0.422      0.176\n",
            "\n",
            "      Epoch    GPU_mem   box_loss   cls_loss   dfl_loss  Instances       Size\n",
            "      12/80         0G      1.427      1.249       1.23         74        640: 100% 2/2 [00:19<00:00,  9.72s/it]\n",
            "                 Class     Images  Instances      Box(P          R      mAP50  mAP50-95): 100% 1/1 [00:03<00:00,  3.39s/it]\n",
            "                   all          8         64     0.0221      0.828      0.404      0.179\n",
            "\n",
            "      Epoch    GPU_mem   box_loss   cls_loss   dfl_loss  Instances       Size\n",
            "      13/80         0G      1.399      1.383      1.324         37        640: 100% 2/2 [00:18<00:00,  9.37s/it]\n",
            "                 Class     Images  Instances      Box(P          R      mAP50  mAP50-95): 100% 1/1 [00:02<00:00,  2.16s/it]\n",
            "                   all          8         64       0.64      0.375      0.399        0.2\n",
            "\n",
            "      Epoch    GPU_mem   box_loss   cls_loss   dfl_loss  Instances       Size\n",
            "      14/80         0G      1.303      1.284      1.171         50        640: 100% 2/2 [00:19<00:00,  9.91s/it]\n",
            "                 Class     Images  Instances      Box(P          R      mAP50  mAP50-95): 100% 1/1 [00:02<00:00,  2.85s/it]\n",
            "                   all          8         64          1      0.144      0.423      0.191\n",
            "\n",
            "      Epoch    GPU_mem   box_loss   cls_loss   dfl_loss  Instances       Size\n",
            "      15/80         0G      1.408      1.246      1.217        107        640: 100% 2/2 [00:18<00:00,  9.43s/it]\n",
            "                 Class     Images  Instances      Box(P          R      mAP50  mAP50-95): 100% 1/1 [00:02<00:00,  2.24s/it]\n",
            "                   all          8         64      0.602      0.406      0.409      0.192\n",
            "\n",
            "      Epoch    GPU_mem   box_loss   cls_loss   dfl_loss  Instances       Size\n",
            "      16/80         0G      1.262       1.09      1.143         63        640: 100% 2/2 [00:20<00:00, 10.30s/it]\n",
            "                 Class     Images  Instances      Box(P          R      mAP50  mAP50-95): 100% 1/1 [00:02<00:00,  2.35s/it]\n",
            "                   all          8         64      0.018      0.672      0.376      0.185\n",
            "\n",
            "      Epoch    GPU_mem   box_loss   cls_loss   dfl_loss  Instances       Size\n",
            "      17/80         0G      1.401      1.228      1.251         46        640: 100% 2/2 [00:21<00:00, 10.97s/it]\n",
            "                 Class     Images  Instances      Box(P          R      mAP50  mAP50-95): 100% 1/1 [00:04<00:00,  4.06s/it]\n",
            "                   all          8         64     0.0386        0.5      0.355      0.185\n",
            "\n",
            "      Epoch    GPU_mem   box_loss   cls_loss   dfl_loss  Instances       Size\n",
            "      18/80         0G      1.308      1.113      1.186         96        640: 100% 2/2 [00:20<00:00, 10.18s/it]\n",
            "                 Class     Images  Instances      Box(P          R      mAP50  mAP50-95): 100% 1/1 [00:02<00:00,  2.20s/it]\n",
            "                   all          8         64      0.281      0.406      0.358      0.192\n",
            "\n",
            "      Epoch    GPU_mem   box_loss   cls_loss   dfl_loss  Instances       Size\n",
            "      19/80         0G      1.431      1.207      1.231         68        640: 100% 2/2 [00:19<00:00,  9.58s/it]\n",
            "                 Class     Images  Instances      Box(P          R      mAP50  mAP50-95): 100% 1/1 [00:03<00:00,  3.33s/it]\n",
            "                   all          8         64          1      0.107      0.412      0.223\n",
            "\n",
            "      Epoch    GPU_mem   box_loss   cls_loss   dfl_loss  Instances       Size\n",
            "      20/80         0G      1.226      1.086      1.136         49        640: 100% 2/2 [00:18<00:00,  9.27s/it]\n",
            "                 Class     Images  Instances      Box(P          R      mAP50  mAP50-95): 100% 1/1 [00:02<00:00,  2.17s/it]\n",
            "                   all          8         64          1      0.135      0.606      0.319\n",
            "\n",
            "      Epoch    GPU_mem   box_loss   cls_loss   dfl_loss  Instances       Size\n",
            "      21/80         0G      1.244      1.027      1.151         86        640: 100% 2/2 [00:19<00:00,  9.71s/it]\n",
            "                 Class     Images  Instances      Box(P          R      mAP50  mAP50-95): 100% 1/1 [00:03<00:00,  3.36s/it]\n",
            "                   all          8         64          1      0.253      0.668      0.354\n",
            "\n",
            "      Epoch    GPU_mem   box_loss   cls_loss   dfl_loss  Instances       Size\n",
            "      22/80         0G      1.215      1.053      1.167         41        640: 100% 2/2 [00:18<00:00,  9.43s/it]\n",
            "                 Class     Images  Instances      Box(P          R      mAP50  mAP50-95): 100% 1/1 [00:02<00:00,  2.19s/it]\n",
            "                   all          8         64          1      0.336      0.681      0.349\n",
            "\n",
            "      Epoch    GPU_mem   box_loss   cls_loss   dfl_loss  Instances       Size\n",
            "      23/80         0G      1.212      1.029       1.16         50        640: 100% 2/2 [00:19<00:00,  9.63s/it]\n",
            "                 Class     Images  Instances      Box(P          R      mAP50  mAP50-95): 100% 1/1 [00:03<00:00,  3.14s/it]\n",
            "                   all          8         64          1      0.313      0.696       0.34\n",
            "\n",
            "      Epoch    GPU_mem   box_loss   cls_loss   dfl_loss  Instances       Size\n",
            "      24/80         0G      1.229      1.059      1.151         54        640: 100% 2/2 [00:19<00:00,  9.52s/it]\n",
            "                 Class     Images  Instances      Box(P          R      mAP50  mAP50-95): 100% 1/1 [00:02<00:00,  2.23s/it]\n",
            "                   all          8         64          1      0.286      0.715      0.323\n",
            "\n",
            "      Epoch    GPU_mem   box_loss   cls_loss   dfl_loss  Instances       Size\n",
            "      25/80         0G       1.13      1.013       1.11         40        640: 100% 2/2 [00:19<00:00,  9.97s/it]\n",
            "                 Class     Images  Instances      Box(P          R      mAP50  mAP50-95): 100% 1/1 [00:02<00:00,  2.57s/it]\n",
            "                   all          8         64          1       0.38      0.716       0.39\n",
            "\n",
            "      Epoch    GPU_mem   box_loss   cls_loss   dfl_loss  Instances       Size\n",
            "      26/80         0G      1.236     0.9863      1.139         79        640: 100% 2/2 [00:19<00:00,  9.51s/it]\n",
            "                 Class     Images  Instances      Box(P          R      mAP50  mAP50-95): 100% 1/1 [00:02<00:00,  2.18s/it]\n",
            "                   all          8         64          1      0.508      0.784      0.436\n",
            "\n",
            "      Epoch    GPU_mem   box_loss   cls_loss   dfl_loss  Instances       Size\n",
            "      27/80         0G        1.2      1.016      1.136         80        640: 100% 2/2 [00:20<00:00, 10.41s/it]\n",
            "                 Class     Images  Instances      Box(P          R      mAP50  mAP50-95): 100% 1/1 [00:02<00:00,  2.22s/it]\n",
            "                   all          8         64          1      0.544      0.774      0.432\n",
            "\n",
            "      Epoch    GPU_mem   box_loss   cls_loss   dfl_loss  Instances       Size\n",
            "      28/80         0G      1.204     0.9599      1.131         67        640: 100% 2/2 [00:19<00:00,  9.51s/it]\n",
            "                 Class     Images  Instances      Box(P          R      mAP50  mAP50-95): 100% 1/1 [00:02<00:00,  2.17s/it]\n",
            "                   all          8         64          1      0.544      0.774      0.432\n",
            "\n",
            "      Epoch    GPU_mem   box_loss   cls_loss   dfl_loss  Instances       Size\n",
            "      29/80         0G      1.182     0.9408      1.137         79        640: 100% 2/2 [00:20<00:00, 10.16s/it]\n",
            "                 Class     Images  Instances      Box(P          R      mAP50  mAP50-95): 100% 1/1 [00:02<00:00,  2.18s/it]\n",
            "                   all          8         64      0.974      0.586      0.762      0.447\n",
            "\n",
            "      Epoch    GPU_mem   box_loss   cls_loss   dfl_loss  Instances       Size\n",
            "      30/80         0G      1.123     0.9835      1.127         66        640: 100% 2/2 [00:18<00:00,  9.48s/it]\n",
            "                 Class     Images  Instances      Box(P          R      mAP50  mAP50-95): 100% 1/1 [00:02<00:00,  2.46s/it]\n",
            "                   all          8         64      0.944      0.625      0.773      0.407\n",
            "\n",
            "      Epoch    GPU_mem   box_loss   cls_loss   dfl_loss  Instances       Size\n",
            "      31/80         0G      1.139      1.021      1.182         42        640: 100% 2/2 [00:19<00:00,  9.77s/it]\n",
            "                 Class     Images  Instances      Box(P          R      mAP50  mAP50-95): 100% 1/1 [00:02<00:00,  2.20s/it]\n",
            "                   all          8         64      0.944      0.625      0.773      0.407\n",
            "\n",
            "      Epoch    GPU_mem   box_loss   cls_loss   dfl_loss  Instances       Size\n",
            "      32/80         0G      1.207     0.9763      1.147         50        640: 100% 2/2 [00:19<00:00,  9.66s/it]\n",
            "                 Class     Images  Instances      Box(P          R      mAP50  mAP50-95): 100% 1/1 [00:03<00:00,  3.13s/it]\n",
            "                   all          8         64      0.853      0.641      0.726      0.333\n",
            "\n",
            "      Epoch    GPU_mem   box_loss   cls_loss   dfl_loss  Instances       Size\n",
            "      33/80         0G      1.417      1.069      1.187         53        640: 100% 2/2 [00:19<00:00,  9.89s/it]\n",
            "                 Class     Images  Instances      Box(P          R      mAP50  mAP50-95): 100% 1/1 [00:02<00:00,  2.22s/it]\n",
            "                   all          8         64      0.801       0.63      0.681      0.334\n",
            "\n",
            "      Epoch    GPU_mem   box_loss   cls_loss   dfl_loss  Instances       Size\n",
            "      34/80         0G      1.151       0.97      1.107         56        640: 100% 2/2 [00:19<00:00,  9.99s/it]\n",
            "                 Class     Images  Instances      Box(P          R      mAP50  mAP50-95): 100% 1/1 [00:03<00:00,  3.16s/it]\n",
            "                   all          8         64      0.801       0.63      0.681      0.334\n",
            "\n",
            "      Epoch    GPU_mem   box_loss   cls_loss   dfl_loss  Instances       Size\n",
            "      35/80         0G      1.138     0.9341       1.12         52        640: 100% 2/2 [00:18<00:00,  9.32s/it]\n",
            "                 Class     Images  Instances      Box(P          R      mAP50  mAP50-95): 100% 1/1 [00:02<00:00,  2.19s/it]\n",
            "                   all          8         64      0.817      0.625      0.717      0.365\n",
            "\n",
            "      Epoch    GPU_mem   box_loss   cls_loss   dfl_loss  Instances       Size\n",
            "      36/80         0G      1.211      1.081      1.195         41        640: 100% 2/2 [00:20<00:00, 10.02s/it]\n",
            "                 Class     Images  Instances      Box(P          R      mAP50  mAP50-95): 100% 1/1 [00:02<00:00,  2.87s/it]\n",
            "                   all          8         64      0.801        0.5       0.65      0.346\n",
            "\n",
            "      Epoch    GPU_mem   box_loss   cls_loss   dfl_loss  Instances       Size\n",
            "      37/80         0G      1.113     0.9121      1.126         51        640: 100% 2/2 [00:18<00:00,  9.37s/it]\n",
            "                 Class     Images  Instances      Box(P          R      mAP50  mAP50-95): 100% 1/1 [00:02<00:00,  2.18s/it]\n",
            "                   all          8         64      0.801        0.5       0.65      0.346\n",
            "\n",
            "      Epoch    GPU_mem   box_loss   cls_loss   dfl_loss  Instances       Size\n",
            "      38/80         0G      1.123     0.8957      1.082         68        640: 100% 2/2 [00:21<00:00, 10.57s/it]\n",
            "                 Class     Images  Instances      Box(P          R      mAP50  mAP50-95): 100% 1/1 [00:02<00:00,  2.18s/it]\n",
            "                   all          8         64      0.817      0.487      0.686      0.349\n",
            "\n",
            "      Epoch    GPU_mem   box_loss   cls_loss   dfl_loss  Instances       Size\n",
            "      39/80         0G      1.183     0.9565      1.113         86        640: 100% 2/2 [00:18<00:00,  9.42s/it]\n",
            "                 Class     Images  Instances      Box(P          R      mAP50  mAP50-95): 100% 1/1 [00:02<00:00,  2.23s/it]\n",
            "                   all          8         64      0.822      0.578      0.728      0.378\n",
            "\n",
            "      Epoch    GPU_mem   box_loss   cls_loss   dfl_loss  Instances       Size\n",
            "      40/80         0G      1.112     0.8973      1.112         45        640: 100% 2/2 [00:20<00:00, 10.23s/it]\n",
            "                 Class     Images  Instances      Box(P          R      mAP50  mAP50-95): 100% 1/1 [00:02<00:00,  2.19s/it]\n",
            "                   all          8         64      0.822      0.578      0.728      0.378\n",
            "\n",
            "      Epoch    GPU_mem   box_loss   cls_loss   dfl_loss  Instances       Size\n",
            "      41/80         0G      1.094     0.8555      1.082         85        640: 100% 2/2 [00:19<00:00,  9.74s/it]\n",
            "                 Class     Images  Instances      Box(P          R      mAP50  mAP50-95): 100% 1/1 [00:02<00:00,  2.68s/it]\n",
            "                   all          8         64      0.878      0.656      0.801      0.441\n",
            "\n",
            "      Epoch    GPU_mem   box_loss   cls_loss   dfl_loss  Instances       Size\n",
            "      42/80         0G      1.018     0.8484       1.04         59        640: 100% 2/2 [00:19<00:00,  9.66s/it]\n",
            "                 Class     Images  Instances      Box(P          R      mAP50  mAP50-95): 100% 1/1 [00:02<00:00,  2.22s/it]\n",
            "                   all          8         64      0.935      0.734      0.828      0.455\n",
            "\n",
            "      Epoch    GPU_mem   box_loss   cls_loss   dfl_loss  Instances       Size\n",
            "      43/80         0G      1.093     0.8835      1.098         69        640: 100% 2/2 [00:19<00:00,  9.67s/it]\n",
            "                 Class     Images  Instances      Box(P          R      mAP50  mAP50-95): 100% 1/1 [00:03<00:00,  3.30s/it]\n",
            "                   all          8         64      0.935      0.734      0.828      0.455\n",
            "\n",
            "      Epoch    GPU_mem   box_loss   cls_loss   dfl_loss  Instances       Size\n",
            "      44/80         0G       1.06     0.9531      1.109         42        640: 100% 2/2 [00:18<00:00,  9.34s/it]\n",
            "                 Class     Images  Instances      Box(P          R      mAP50  mAP50-95): 100% 1/1 [00:02<00:00,  2.19s/it]\n",
            "                   all          8         64       0.96      0.759      0.861       0.47\n",
            "\n",
            "      Epoch    GPU_mem   box_loss   cls_loss   dfl_loss  Instances       Size\n",
            "      45/80         0G      1.112     0.8707      1.074         87        640: 100% 2/2 [00:19<00:00,  9.90s/it]\n",
            "                 Class     Images  Instances      Box(P          R      mAP50  mAP50-95): 100% 1/1 [00:03<00:00,  3.19s/it]\n",
            "                   all          8         64       0.96      0.759      0.861       0.47\n",
            "\n",
            "      Epoch    GPU_mem   box_loss   cls_loss   dfl_loss  Instances       Size\n",
            "      46/80         0G      1.123     0.9506      1.116         71        640: 100% 2/2 [00:19<00:00,  9.62s/it]\n",
            "                 Class     Images  Instances      Box(P          R      mAP50  mAP50-95): 100% 1/1 [00:02<00:00,  2.18s/it]\n",
            "                   all          8         64      0.936      0.797      0.893      0.489\n",
            "\n",
            "      Epoch    GPU_mem   box_loss   cls_loss   dfl_loss  Instances       Size\n",
            "      47/80         0G      1.107     0.8911      1.077         77        640: 100% 2/2 [00:19<00:00,  9.98s/it]\n",
            "                 Class     Images  Instances      Box(P          R      mAP50  mAP50-95): 100% 1/1 [00:02<00:00,  2.66s/it]\n",
            "                   all          8         64      0.936      0.797      0.893      0.489\n",
            "\n",
            "      Epoch    GPU_mem   box_loss   cls_loss   dfl_loss  Instances       Size\n",
            "      48/80         0G      1.102     0.8734      1.091         58        640: 100% 2/2 [00:19<00:00,  9.54s/it]\n",
            "                 Class     Images  Instances      Box(P          R      mAP50  mAP50-95): 100% 1/1 [00:02<00:00,  2.22s/it]\n",
            "                   all          8         64      0.927      0.799      0.903      0.503\n",
            "\n",
            "      Epoch    GPU_mem   box_loss   cls_loss   dfl_loss  Instances       Size\n",
            "      49/80         0G     0.9545     0.8008      1.047         62        640: 100% 2/2 [00:20<00:00, 10.31s/it]\n",
            "                 Class     Images  Instances      Box(P          R      mAP50  mAP50-95): 100% 1/1 [00:02<00:00,  2.20s/it]\n",
            "                   all          8         64      0.927      0.799      0.903      0.503\n",
            "\n",
            "      Epoch    GPU_mem   box_loss   cls_loss   dfl_loss  Instances       Size\n",
            "      50/80         0G      1.043     0.8437      1.056         67        640: 100% 2/2 [00:19<00:00,  9.59s/it]\n",
            "                 Class     Images  Instances      Box(P          R      mAP50  mAP50-95): 100% 1/1 [00:02<00:00,  2.21s/it]\n",
            "                   all          8         64       0.98      0.797      0.905      0.521\n",
            "\n",
            "      Epoch    GPU_mem   box_loss   cls_loss   dfl_loss  Instances       Size\n",
            "      51/80         0G      1.122     0.8481      1.075         68        640: 100% 2/2 [00:20<00:00, 10.21s/it]\n",
            "                 Class     Images  Instances      Box(P          R      mAP50  mAP50-95): 100% 1/1 [00:02<00:00,  2.24s/it]\n",
            "                   all          8         64       0.98      0.797      0.905      0.521\n",
            "\n",
            "      Epoch    GPU_mem   box_loss   cls_loss   dfl_loss  Instances       Size\n",
            "      52/80         0G      1.109     0.8737      1.101         54        640: 100% 2/2 [00:19<00:00,  9.83s/it]\n",
            "                 Class     Images  Instances      Box(P          R      mAP50  mAP50-95): 100% 1/1 [00:02<00:00,  2.89s/it]\n",
            "                   all          8         64      0.915      0.844      0.914      0.527\n",
            "\n",
            "      Epoch    GPU_mem   box_loss   cls_loss   dfl_loss  Instances       Size\n",
            "      53/80         0G      1.047      0.838      1.045         68        640: 100% 2/2 [00:19<00:00,  9.63s/it]\n",
            "                 Class     Images  Instances      Box(P          R      mAP50  mAP50-95): 100% 1/1 [00:02<00:00,  2.22s/it]\n",
            "                   all          8         64      0.915      0.844      0.914      0.527\n",
            "\n",
            "      Epoch    GPU_mem   box_loss   cls_loss   dfl_loss  Instances       Size\n",
            "      54/80         0G      1.073     0.8489      1.059         63        640: 100% 2/2 [00:19<00:00,  9.74s/it]\n",
            "                 Class     Images  Instances      Box(P          R      mAP50  mAP50-95): 100% 1/1 [00:03<00:00,  3.57s/it]\n",
            "                   all          8         64      0.897      0.817      0.869      0.521\n",
            "\n",
            "      Epoch    GPU_mem   box_loss   cls_loss   dfl_loss  Instances       Size\n",
            "      55/80         0G      1.036     0.8528      1.085         80        640: 100% 2/2 [00:18<00:00,  9.47s/it]\n",
            "                 Class     Images  Instances      Box(P          R      mAP50  mAP50-95): 100% 1/1 [00:02<00:00,  2.23s/it]\n",
            "                   all          8         64      0.897      0.817      0.869      0.521\n",
            "\n",
            "      Epoch    GPU_mem   box_loss   cls_loss   dfl_loss  Instances       Size\n",
            "      56/80         0G     0.9953     0.7949      1.021         69        640: 100% 2/2 [00:21<00:00, 10.87s/it]\n",
            "                 Class     Images  Instances      Box(P          R      mAP50  mAP50-95): 100% 1/1 [00:03<00:00,  3.59s/it]\n",
            "                   all          8         64      0.918      0.875      0.884      0.534\n",
            "\n",
            "      Epoch    GPU_mem   box_loss   cls_loss   dfl_loss  Instances       Size\n",
            "      57/80         0G     0.9825     0.7929      1.012         81        640: 100% 2/2 [00:19<00:00,  9.94s/it]\n",
            "                 Class     Images  Instances      Box(P          R      mAP50  mAP50-95): 100% 1/1 [00:02<00:00,  2.63s/it]\n",
            "                   all          8         64      0.918      0.875      0.884      0.534\n",
            "\n",
            "      Epoch    GPU_mem   box_loss   cls_loss   dfl_loss  Instances       Size\n",
            "      58/80         0G      1.002     0.7835      1.031         67        640: 100% 2/2 [00:19<00:00,  9.99s/it]\n",
            "                 Class     Images  Instances      Box(P          R      mAP50  mAP50-95): 100% 1/1 [00:02<00:00,  2.23s/it]\n",
            "                   all          8         64      0.874       0.87      0.897       0.54\n",
            "\n",
            "      Epoch    GPU_mem   box_loss   cls_loss   dfl_loss  Instances       Size\n",
            "      59/80         0G     0.9925     0.7959      1.007         95        640: 100% 2/2 [00:19<00:00,  9.91s/it]\n",
            "                 Class     Images  Instances      Box(P          R      mAP50  mAP50-95): 100% 1/1 [00:03<00:00,  3.39s/it]\n",
            "                   all          8         64      0.874       0.87      0.897       0.54\n",
            "\n",
            "      Epoch    GPU_mem   box_loss   cls_loss   dfl_loss  Instances       Size\n",
            "      60/80         0G      0.985     0.8312       1.04         59        640: 100% 2/2 [00:19<00:00,  9.72s/it]\n",
            "                 Class     Images  Instances      Box(P          R      mAP50  mAP50-95): 100% 1/1 [00:02<00:00,  2.27s/it]\n",
            "                   all          8         64      0.902       0.86      0.907      0.547\n",
            "\n",
            "      Epoch    GPU_mem   box_loss   cls_loss   dfl_loss  Instances       Size\n",
            "      61/80         0G     0.9988     0.8186      1.055        106        640: 100% 2/2 [00:20<00:00, 10.07s/it]\n",
            "                 Class     Images  Instances      Box(P          R      mAP50  mAP50-95): 100% 1/1 [00:02<00:00,  2.84s/it]\n",
            "                   all          8         64      0.902       0.86      0.907      0.547\n",
            "\n",
            "      Epoch    GPU_mem   box_loss   cls_loss   dfl_loss  Instances       Size\n",
            "      62/80         0G     0.9558      0.776     0.9927         69        640: 100% 2/2 [00:19<00:00,  9.67s/it]\n",
            "                 Class     Images  Instances      Box(P          R      mAP50  mAP50-95): 100% 1/1 [00:02<00:00,  2.21s/it]\n",
            "                   all          8         64      0.915      0.844      0.906      0.557\n",
            "\n",
            "      Epoch    GPU_mem   box_loss   cls_loss   dfl_loss  Instances       Size\n",
            "      63/80         0G      1.051     0.7935      1.045         77        640: 100% 2/2 [00:20<00:00, 10.36s/it]\n",
            "                 Class     Images  Instances      Box(P          R      mAP50  mAP50-95): 100% 1/1 [00:02<00:00,  2.28s/it]\n",
            "                   all          8         64      0.915      0.844      0.906      0.557\n",
            "\n",
            "      Epoch    GPU_mem   box_loss   cls_loss   dfl_loss  Instances       Size\n",
            "      64/80         0G     0.9389     0.7786       1.02         81        640: 100% 2/2 [00:19<00:00,  9.71s/it]\n",
            "                 Class     Images  Instances      Box(P          R      mAP50  mAP50-95): 100% 1/1 [00:02<00:00,  2.39s/it]\n",
            "                   all          8         64      0.902      0.844      0.909      0.564\n",
            "\n",
            "      Epoch    GPU_mem   box_loss   cls_loss   dfl_loss  Instances       Size\n",
            "      65/80         0G     0.9564     0.7598      1.048         60        640: 100% 2/2 [00:19<00:00,  9.83s/it]\n",
            "                 Class     Images  Instances      Box(P          R      mAP50  mAP50-95): 100% 1/1 [00:02<00:00,  2.22s/it]\n",
            "                   all          8         64      0.902      0.844      0.909      0.564\n",
            "\n",
            "      Epoch    GPU_mem   box_loss   cls_loss   dfl_loss  Instances       Size\n",
            "      66/80         0G     0.9014     0.7632          1         58        640: 100% 2/2 [00:19<00:00,  9.57s/it]\n",
            "                 Class     Images  Instances      Box(P          R      mAP50  mAP50-95): 100% 1/1 [00:03<00:00,  3.03s/it]\n",
            "                   all          8         64       0.91      0.891      0.917      0.576\n",
            "\n",
            "      Epoch    GPU_mem   box_loss   cls_loss   dfl_loss  Instances       Size\n",
            "      67/80         0G     0.8957     0.7685      1.004         39        640: 100% 2/2 [00:19<00:00,  9.56s/it]\n",
            "                 Class     Images  Instances      Box(P          R      mAP50  mAP50-95): 100% 1/1 [00:02<00:00,  2.24s/it]\n",
            "                   all          8         64       0.91      0.891      0.917      0.576\n",
            "\n",
            "      Epoch    GPU_mem   box_loss   cls_loss   dfl_loss  Instances       Size\n",
            "      68/80         0G      0.943     0.7794      1.054         61        640: 100% 2/2 [00:19<00:00,  9.76s/it]\n",
            "                 Class     Images  Instances      Box(P          R      mAP50  mAP50-95): 100% 1/1 [00:03<00:00,  3.42s/it]\n",
            "                   all          8         64      0.941      0.844      0.916      0.573\n",
            "\n",
            "      Epoch    GPU_mem   box_loss   cls_loss   dfl_loss  Instances       Size\n",
            "      69/80         0G     0.8597     0.7057      1.002         54        640: 100% 2/2 [00:19<00:00,  9.69s/it]\n",
            "                 Class     Images  Instances      Box(P          R      mAP50  mAP50-95): 100% 1/1 [00:02<00:00,  2.25s/it]\n",
            "                   all          8         64      0.941      0.844      0.916      0.573\n",
            "\n",
            "      Epoch    GPU_mem   box_loss   cls_loss   dfl_loss  Instances       Size\n",
            "      70/80         0G     0.8435     0.7054      1.017         54        640: 100% 2/2 [00:20<00:00, 10.25s/it]\n",
            "                 Class     Images  Instances      Box(P          R      mAP50  mAP50-95): 100% 1/1 [00:02<00:00,  2.34s/it]\n",
            "                   all          8         64      0.949      0.844      0.924      0.578\n",
            "Closing dataloader mosaic\n",
            "\u001b[34m\u001b[1malbumentations: \u001b[0mBlur(p=0.01, blur_limit=(3, 7)), MedianBlur(p=0.01, blur_limit=(3, 7)), ToGray(p=0.01), CLAHE(p=0.01, clip_limit=(1, 4.0), tile_grid_size=(8, 8))\n",
            "\n",
            "      Epoch    GPU_mem   box_loss   cls_loss   dfl_loss  Instances       Size\n",
            "      71/80         0G     0.8075     0.7379      1.012         39        640: 100% 2/2 [00:19<00:00,  9.97s/it]\n",
            "                 Class     Images  Instances      Box(P          R      mAP50  mAP50-95): 100% 1/1 [00:02<00:00,  2.44s/it]\n",
            "                   all          8         64      0.949      0.844      0.924      0.578\n",
            "\n",
            "      Epoch    GPU_mem   box_loss   cls_loss   dfl_loss  Instances       Size\n",
            "      72/80         0G     0.8271      0.777     0.9934         39        640: 100% 2/2 [00:20<00:00, 10.37s/it]\n",
            "                 Class     Images  Instances      Box(P          R      mAP50  mAP50-95): 100% 1/1 [00:02<00:00,  2.24s/it]\n",
            "                   all          8         64      0.955      0.844      0.928      0.563\n",
            "\n",
            "      Epoch    GPU_mem   box_loss   cls_loss   dfl_loss  Instances       Size\n",
            "      73/80         0G      0.881     0.7502      1.028         40        640: 100% 2/2 [00:19<00:00,  9.57s/it]\n",
            "                 Class     Images  Instances      Box(P          R      mAP50  mAP50-95): 100% 1/1 [00:03<00:00,  3.09s/it]\n",
            "                   all          8         64      0.955      0.844      0.928      0.563\n",
            "\n",
            "      Epoch    GPU_mem   box_loss   cls_loss   dfl_loss  Instances       Size\n",
            "      74/80         0G     0.8019     0.7164     0.9877         39        640: 100% 2/2 [00:18<00:00,  9.43s/it]\n",
            "                 Class     Images  Instances      Box(P          R      mAP50  mAP50-95): 100% 1/1 [00:02<00:00,  2.21s/it]\n",
            "                   all          8         64      0.979      0.828      0.932      0.568\n",
            "\n",
            "      Epoch    GPU_mem   box_loss   cls_loss   dfl_loss  Instances       Size\n",
            "      75/80         0G      0.693     0.6299     0.9542         39        640: 100% 2/2 [00:18<00:00,  9.49s/it]\n",
            "                 Class     Images  Instances      Box(P          R      mAP50  mAP50-95): 100% 1/1 [00:03<00:00,  3.29s/it]\n",
            "                   all          8         64      0.979      0.828      0.932      0.568\n",
            "\n",
            "      Epoch    GPU_mem   box_loss   cls_loss   dfl_loss  Instances       Size\n",
            "      76/80         0G      0.829     0.7278     0.9873         39        640: 100% 2/2 [00:18<00:00,  9.42s/it]\n",
            "                 Class     Images  Instances      Box(P          R      mAP50  mAP50-95): 100% 1/1 [00:02<00:00,  2.21s/it]\n",
            "                   all          8         64      0.988      0.828      0.933       0.57\n",
            "\n",
            "      Epoch    GPU_mem   box_loss   cls_loss   dfl_loss  Instances       Size\n",
            "      77/80         0G     0.9839     0.8277     0.9942         40        640: 100% 2/2 [00:19<00:00,  9.63s/it]\n",
            "                 Class     Images  Instances      Box(P          R      mAP50  mAP50-95): 100% 1/1 [00:03<00:00,  3.39s/it]\n",
            "                   all          8         64      0.988      0.828      0.933       0.57\n",
            "\n",
            "      Epoch    GPU_mem   box_loss   cls_loss   dfl_loss  Instances       Size\n",
            "      78/80         0G     0.8461     0.7359     0.9882         39        640: 100% 2/2 [00:19<00:00,  9.52s/it]\n",
            "                 Class     Images  Instances      Box(P          R      mAP50  mAP50-95): 100% 1/1 [00:02<00:00,  2.26s/it]\n",
            "                   all          8         64      0.993      0.828       0.93      0.572\n",
            "\n",
            "      Epoch    GPU_mem   box_loss   cls_loss   dfl_loss  Instances       Size\n",
            "      79/80         0G     0.7844     0.6854     0.9285         39        640: 100% 2/2 [00:18<00:00,  9.45s/it]\n",
            "                 Class     Images  Instances      Box(P          R      mAP50  mAP50-95): 100% 1/1 [00:03<00:00,  3.32s/it]\n",
            "                   all          8         64      0.993      0.828       0.93      0.572\n",
            "\n",
            "      Epoch    GPU_mem   box_loss   cls_loss   dfl_loss  Instances       Size\n",
            "      80/80         0G     0.7688      0.709     0.9766         40        640: 100% 2/2 [00:18<00:00,  9.18s/it]\n",
            "                 Class     Images  Instances      Box(P          R      mAP50  mAP50-95): 100% 1/1 [00:02<00:00,  2.17s/it]\n",
            "                   all          8         64      0.993      0.828      0.925      0.581\n",
            "\n",
            "80 epochs completed in 0.512 hours.\n",
            "Optimizer stripped from runs/detect/train7/weights/last.pt, 6.2MB\n",
            "Optimizer stripped from runs/detect/train7/weights/best.pt, 6.2MB\n",
            "\n",
            "Validating runs/detect/train7/weights/best.pt...\n",
            "Ultralytics YOLOv8.2.49 🚀 Python-3.10.12 torch-2.3.0+cu121 CPU (Intel Xeon 2.20GHz)\n",
            "Model summary (fused): 168 layers, 3005843 parameters, 0 gradients, 8.1 GFLOPs\n",
            "                 Class     Images  Instances      Box(P          R      mAP50  mAP50-95): 100% 1/1 [00:02<00:00,  2.47s/it]\n",
            "                   all          8         64      0.993      0.828      0.925      0.579\n",
            "Speed: 2.3ms preprocess, 266.0ms inference, 0.0ms loss, 10.4ms postprocess per image\n",
            "Results saved to \u001b[1mruns/detect/train7\u001b[0m\n",
            "💡 Learn more at https://docs.ultralytics.com/modes/train\n"
          ]
        }
      ]
    },
    {
      "cell_type": "code",
      "source": [
        "from ultralytics import YOLO\n",
        "\n",
        "# Load your trained YOLOv8 model\n",
        "model = YOLO(\"best.pt\")\n",
        "\n",
        "# Run the detection and tracking on your video\n",
        "results = model.track(source=\"sample6.mp4\", save_txt=True, save=True,save_conf=True)\n"
      ],
      "metadata": {
        "id": "zvaLSctM3A4H",
        "outputId": "ee537d56-108e-415c-d4c8-1abab2dd8c24",
        "colab": {
          "base_uri": "https://localhost:8080/"
        }
      },
      "execution_count": 29,
      "outputs": [
        {
          "output_type": "stream",
          "name": "stdout",
          "text": [
            "\n",
            "\n",
            "WARNING ⚠️ inference results will accumulate in RAM unless `stream=True` is passed, causing potential out-of-memory\n",
            "errors for large sources or long-running streams and videos. See https://docs.ultralytics.com/modes/predict/ for help.\n",
            "\n",
            "Example:\n",
            "    results = model(source=..., stream=True)  # generator of Results objects\n",
            "    for r in results:\n",
            "        boxes = r.boxes  # Boxes object for bbox outputs\n",
            "        masks = r.masks  # Masks object for segment masks outputs\n",
            "        probs = r.probs  # Class probabilities for classification outputs\n",
            "\n",
            "video 1/1 (frame 1/154) /content/sample6.mp4: 640x640 7 fishs, 271.2ms\n",
            "video 1/1 (frame 2/154) /content/sample6.mp4: 640x640 7 fishs, 238.5ms\n",
            "video 1/1 (frame 3/154) /content/sample6.mp4: 640x640 7 fishs, 240.8ms\n",
            "video 1/1 (frame 4/154) /content/sample6.mp4: 640x640 7 fishs, 231.1ms\n",
            "video 1/1 (frame 5/154) /content/sample6.mp4: 640x640 7 fishs, 221.9ms\n",
            "video 1/1 (frame 6/154) /content/sample6.mp4: 640x640 7 fishs, 244.8ms\n",
            "video 1/1 (frame 7/154) /content/sample6.mp4: 640x640 7 fishs, 223.0ms\n",
            "video 1/1 (frame 8/154) /content/sample6.mp4: 640x640 7 fishs, 226.3ms\n",
            "video 1/1 (frame 9/154) /content/sample6.mp4: 640x640 6 fishs, 369.1ms\n",
            "video 1/1 (frame 10/154) /content/sample6.mp4: 640x640 6 fishs, 335.4ms\n",
            "video 1/1 (frame 11/154) /content/sample6.mp4: 640x640 6 fishs, 339.1ms\n",
            "video 1/1 (frame 12/154) /content/sample6.mp4: 640x640 6 fishs, 350.2ms\n",
            "video 1/1 (frame 13/154) /content/sample6.mp4: 640x640 6 fishs, 364.7ms\n",
            "video 1/1 (frame 14/154) /content/sample6.mp4: 640x640 6 fishs, 354.0ms\n",
            "video 1/1 (frame 15/154) /content/sample6.mp4: 640x640 6 fishs, 367.4ms\n",
            "video 1/1 (frame 16/154) /content/sample6.mp4: 640x640 7 fishs, 343.8ms\n",
            "video 1/1 (frame 17/154) /content/sample6.mp4: 640x640 7 fishs, 229.3ms\n",
            "video 1/1 (frame 18/154) /content/sample6.mp4: 640x640 7 fishs, 225.3ms\n",
            "video 1/1 (frame 19/154) /content/sample6.mp4: 640x640 7 fishs, 225.5ms\n",
            "video 1/1 (frame 20/154) /content/sample6.mp4: 640x640 7 fishs, 252.7ms\n",
            "video 1/1 (frame 21/154) /content/sample6.mp4: 640x640 7 fishs, 226.6ms\n",
            "video 1/1 (frame 22/154) /content/sample6.mp4: 640x640 7 fishs, 224.6ms\n",
            "video 1/1 (frame 23/154) /content/sample6.mp4: 640x640 7 fishs, 233.8ms\n",
            "video 1/1 (frame 24/154) /content/sample6.mp4: 640x640 7 fishs, 239.0ms\n",
            "video 1/1 (frame 25/154) /content/sample6.mp4: 640x640 7 fishs, 225.0ms\n",
            "video 1/1 (frame 26/154) /content/sample6.mp4: 640x640 7 fishs, 223.3ms\n",
            "video 1/1 (frame 27/154) /content/sample6.mp4: 640x640 7 fishs, 234.1ms\n",
            "video 1/1 (frame 28/154) /content/sample6.mp4: 640x640 7 fishs, 217.4ms\n",
            "video 1/1 (frame 29/154) /content/sample6.mp4: 640x640 6 fishs, 220.8ms\n",
            "video 1/1 (frame 30/154) /content/sample6.mp4: 640x640 6 fishs, 223.1ms\n",
            "video 1/1 (frame 31/154) /content/sample6.mp4: 640x640 7 fishs, 236.8ms\n",
            "video 1/1 (frame 32/154) /content/sample6.mp4: 640x640 7 fishs, 227.9ms\n",
            "video 1/1 (frame 33/154) /content/sample6.mp4: 640x640 6 fishs, 225.8ms\n",
            "video 1/1 (frame 34/154) /content/sample6.mp4: 640x640 6 fishs, 233.0ms\n",
            "video 1/1 (frame 35/154) /content/sample6.mp4: 640x640 6 fishs, 239.2ms\n",
            "video 1/1 (frame 36/154) /content/sample6.mp4: 640x640 6 fishs, 225.9ms\n",
            "video 1/1 (frame 37/154) /content/sample6.mp4: 640x640 6 fishs, 224.9ms\n",
            "video 1/1 (frame 38/154) /content/sample6.mp4: 640x640 6 fishs, 221.6ms\n",
            "video 1/1 (frame 39/154) /content/sample6.mp4: 640x640 6 fishs, 225.9ms\n",
            "video 1/1 (frame 40/154) /content/sample6.mp4: 640x640 7 fishs, 229.1ms\n",
            "video 1/1 (frame 41/154) /content/sample6.mp4: 640x640 7 fishs, 226.2ms\n",
            "video 1/1 (frame 42/154) /content/sample6.mp4: 640x640 7 fishs, 237.6ms\n",
            "video 1/1 (frame 43/154) /content/sample6.mp4: 640x640 7 fishs, 237.2ms\n",
            "video 1/1 (frame 44/154) /content/sample6.mp4: 640x640 7 fishs, 230.3ms\n",
            "video 1/1 (frame 45/154) /content/sample6.mp4: 640x640 7 fishs, 229.9ms\n",
            "video 1/1 (frame 46/154) /content/sample6.mp4: 640x640 7 fishs, 241.6ms\n",
            "video 1/1 (frame 47/154) /content/sample6.mp4: 640x640 7 fishs, 224.7ms\n",
            "video 1/1 (frame 48/154) /content/sample6.mp4: 640x640 7 fishs, 232.7ms\n",
            "video 1/1 (frame 49/154) /content/sample6.mp4: 640x640 7 fishs, 225.8ms\n",
            "video 1/1 (frame 50/154) /content/sample6.mp4: 640x640 7 fishs, 227.2ms\n",
            "video 1/1 (frame 51/154) /content/sample6.mp4: 640x640 7 fishs, 223.8ms\n",
            "video 1/1 (frame 52/154) /content/sample6.mp4: 640x640 7 fishs, 286.5ms\n",
            "video 1/1 (frame 53/154) /content/sample6.mp4: 640x640 8 fishs, 359.1ms\n",
            "video 1/1 (frame 54/154) /content/sample6.mp4: 640x640 8 fishs, 339.8ms\n",
            "video 1/1 (frame 55/154) /content/sample6.mp4: 640x640 7 fishs, 339.2ms\n",
            "video 1/1 (frame 56/154) /content/sample6.mp4: 640x640 7 fishs, 343.9ms\n",
            "video 1/1 (frame 57/154) /content/sample6.mp4: 640x640 8 fishs, 353.7ms\n",
            "video 1/1 (frame 58/154) /content/sample6.mp4: 640x640 8 fishs, 374.6ms\n",
            "video 1/1 (frame 59/154) /content/sample6.mp4: 640x640 9 fishs, 369.2ms\n",
            "video 1/1 (frame 60/154) /content/sample6.mp4: 640x640 9 fishs, 344.0ms\n",
            "video 1/1 (frame 61/154) /content/sample6.mp4: 640x640 9 fishs, 226.1ms\n",
            "video 1/1 (frame 62/154) /content/sample6.mp4: 640x640 9 fishs, 225.8ms\n",
            "video 1/1 (frame 63/154) /content/sample6.mp4: 640x640 8 fishs, 221.8ms\n",
            "video 1/1 (frame 64/154) /content/sample6.mp4: 640x640 7 fishs, 237.2ms\n",
            "video 1/1 (frame 65/154) /content/sample6.mp4: 640x640 8 fishs, 235.7ms\n",
            "video 1/1 (frame 66/154) /content/sample6.mp4: 640x640 8 fishs, 225.8ms\n",
            "video 1/1 (frame 67/154) /content/sample6.mp4: 640x640 8 fishs, 237.3ms\n",
            "video 1/1 (frame 68/154) /content/sample6.mp4: 640x640 8 fishs, 232.0ms\n",
            "video 1/1 (frame 69/154) /content/sample6.mp4: 640x640 8 fishs, 222.3ms\n",
            "video 1/1 (frame 70/154) /content/sample6.mp4: 640x640 8 fishs, 236.7ms\n",
            "video 1/1 (frame 71/154) /content/sample6.mp4: 640x640 7 fishs, 239.0ms\n",
            "video 1/1 (frame 72/154) /content/sample6.mp4: 640x640 7 fishs, 231.0ms\n",
            "video 1/1 (frame 73/154) /content/sample6.mp4: 640x640 8 fishs, 226.2ms\n",
            "video 1/1 (frame 74/154) /content/sample6.mp4: 640x640 8 fishs, 223.1ms\n",
            "video 1/1 (frame 75/154) /content/sample6.mp4: 640x640 8 fishs, 236.2ms\n",
            "video 1/1 (frame 76/154) /content/sample6.mp4: 640x640 8 fishs, 224.2ms\n",
            "video 1/1 (frame 77/154) /content/sample6.mp4: 640x640 8 fishs, 234.6ms\n",
            "video 1/1 (frame 78/154) /content/sample6.mp4: 640x640 8 fishs, 240.2ms\n",
            "video 1/1 (frame 79/154) /content/sample6.mp4: 640x640 7 fishs, 229.9ms\n",
            "video 1/1 (frame 80/154) /content/sample6.mp4: 640x640 7 fishs, 230.6ms\n",
            "video 1/1 (frame 81/154) /content/sample6.mp4: 640x640 7 fishs, 224.8ms\n",
            "video 1/1 (frame 82/154) /content/sample6.mp4: 640x640 7 fishs, 244.8ms\n",
            "video 1/1 (frame 83/154) /content/sample6.mp4: 640x640 7 fishs, 232.1ms\n",
            "video 1/1 (frame 84/154) /content/sample6.mp4: 640x640 7 fishs, 226.7ms\n",
            "video 1/1 (frame 85/154) /content/sample6.mp4: 640x640 7 fishs, 230.3ms\n",
            "video 1/1 (frame 86/154) /content/sample6.mp4: 640x640 7 fishs, 230.2ms\n",
            "video 1/1 (frame 87/154) /content/sample6.mp4: 640x640 7 fishs, 221.2ms\n",
            "video 1/1 (frame 88/154) /content/sample6.mp4: 640x640 7 fishs, 226.3ms\n",
            "video 1/1 (frame 89/154) /content/sample6.mp4: 640x640 8 fishs, 235.3ms\n",
            "video 1/1 (frame 90/154) /content/sample6.mp4: 640x640 8 fishs, 226.1ms\n",
            "video 1/1 (frame 91/154) /content/sample6.mp4: 640x640 8 fishs, 226.9ms\n",
            "video 1/1 (frame 92/154) /content/sample6.mp4: 640x640 8 fishs, 229.6ms\n",
            "video 1/1 (frame 93/154) /content/sample6.mp4: 640x640 8 fishs, 239.3ms\n",
            "video 1/1 (frame 94/154) /content/sample6.mp4: 640x640 8 fishs, 226.0ms\n",
            "video 1/1 (frame 95/154) /content/sample6.mp4: 640x640 8 fishs, 225.2ms\n",
            "video 1/1 (frame 96/154) /content/sample6.mp4: 640x640 8 fishs, 358.2ms\n",
            "video 1/1 (frame 97/154) /content/sample6.mp4: 640x640 8 fishs, 348.3ms\n",
            "video 1/1 (frame 98/154) /content/sample6.mp4: 640x640 8 fishs, 351.8ms\n",
            "video 1/1 (frame 99/154) /content/sample6.mp4: 640x640 8 fishs, 343.0ms\n",
            "video 1/1 (frame 100/154) /content/sample6.mp4: 640x640 9 fishs, 346.7ms\n",
            "video 1/1 (frame 101/154) /content/sample6.mp4: 640x640 9 fishs, 366.3ms\n",
            "video 1/1 (frame 102/154) /content/sample6.mp4: 640x640 8 fishs, 355.8ms\n",
            "video 1/1 (frame 103/154) /content/sample6.mp4: 640x640 9 fishs, 321.2ms\n",
            "video 1/1 (frame 104/154) /content/sample6.mp4: 640x640 9 fishs, 221.6ms\n",
            "video 1/1 (frame 105/154) /content/sample6.mp4: 640x640 9 fishs, 225.1ms\n",
            "video 1/1 (frame 106/154) /content/sample6.mp4: 640x640 8 fishs, 238.0ms\n",
            "video 1/1 (frame 107/154) /content/sample6.mp4: 640x640 8 fishs, 242.8ms\n",
            "video 1/1 (frame 108/154) /content/sample6.mp4: 640x640 8 fishs, 232.0ms\n",
            "video 1/1 (frame 109/154) /content/sample6.mp4: 640x640 8 fishs, 231.0ms\n",
            "video 1/1 (frame 110/154) /content/sample6.mp4: 640x640 8 fishs, 230.8ms\n",
            "video 1/1 (frame 111/154) /content/sample6.mp4: 640x640 8 fishs, 225.6ms\n",
            "video 1/1 (frame 112/154) /content/sample6.mp4: 640x640 8 fishs, 223.3ms\n",
            "video 1/1 (frame 113/154) /content/sample6.mp4: 640x640 8 fishs, 231.5ms\n",
            "video 1/1 (frame 114/154) /content/sample6.mp4: 640x640 8 fishs, 243.8ms\n",
            "video 1/1 (frame 115/154) /content/sample6.mp4: 640x640 8 fishs, 232.5ms\n",
            "video 1/1 (frame 116/154) /content/sample6.mp4: 640x640 8 fishs, 224.1ms\n",
            "video 1/1 (frame 117/154) /content/sample6.mp4: 640x640 8 fishs, 229.9ms\n",
            "video 1/1 (frame 118/154) /content/sample6.mp4: 640x640 8 fishs, 237.5ms\n",
            "video 1/1 (frame 119/154) /content/sample6.mp4: 640x640 8 fishs, 226.8ms\n",
            "video 1/1 (frame 120/154) /content/sample6.mp4: 640x640 8 fishs, 231.1ms\n",
            "video 1/1 (frame 121/154) /content/sample6.mp4: 640x640 8 fishs, 241.3ms\n",
            "video 1/1 (frame 122/154) /content/sample6.mp4: 640x640 8 fishs, 225.0ms\n",
            "video 1/1 (frame 123/154) /content/sample6.mp4: 640x640 8 fishs, 220.4ms\n",
            "video 1/1 (frame 124/154) /content/sample6.mp4: 640x640 8 fishs, 227.0ms\n",
            "video 1/1 (frame 125/154) /content/sample6.mp4: 640x640 8 fishs, 238.6ms\n",
            "video 1/1 (frame 126/154) /content/sample6.mp4: 640x640 8 fishs, 226.3ms\n",
            "video 1/1 (frame 127/154) /content/sample6.mp4: 640x640 8 fishs, 228.7ms\n",
            "video 1/1 (frame 128/154) /content/sample6.mp4: 640x640 8 fishs, 227.8ms\n",
            "video 1/1 (frame 129/154) /content/sample6.mp4: 640x640 8 fishs, 241.2ms\n",
            "video 1/1 (frame 130/154) /content/sample6.mp4: 640x640 8 fishs, 225.8ms\n",
            "video 1/1 (frame 131/154) /content/sample6.mp4: 640x640 8 fishs, 241.0ms\n",
            "video 1/1 (frame 132/154) /content/sample6.mp4: 640x640 8 fishs, 262.5ms\n",
            "video 1/1 (frame 133/154) /content/sample6.mp4: 640x640 8 fishs, 238.1ms\n",
            "video 1/1 (frame 134/154) /content/sample6.mp4: 640x640 8 fishs, 238.3ms\n",
            "video 1/1 (frame 135/154) /content/sample6.mp4: 640x640 8 fishs, 243.9ms\n",
            "video 1/1 (frame 136/154) /content/sample6.mp4: 640x640 8 fishs, 275.6ms\n",
            "video 1/1 (frame 137/154) /content/sample6.mp4: 640x640 8 fishs, 246.7ms\n",
            "video 1/1 (frame 138/154) /content/sample6.mp4: 640x640 8 fishs, 343.8ms\n",
            "video 1/1 (frame 139/154) /content/sample6.mp4: 640x640 8 fishs, 382.9ms\n",
            "video 1/1 (frame 140/154) /content/sample6.mp4: 640x640 8 fishs, 361.4ms\n",
            "video 1/1 (frame 141/154) /content/sample6.mp4: 640x640 8 fishs, 380.7ms\n",
            "video 1/1 (frame 142/154) /content/sample6.mp4: 640x640 8 fishs, 381.1ms\n",
            "video 1/1 (frame 143/154) /content/sample6.mp4: 640x640 8 fishs, 417.6ms\n",
            "video 1/1 (frame 144/154) /content/sample6.mp4: 640x640 8 fishs, 387.0ms\n",
            "video 1/1 (frame 145/154) /content/sample6.mp4: 640x640 8 fishs, 348.4ms\n",
            "video 1/1 (frame 146/154) /content/sample6.mp4: 640x640 9 fishs, 248.6ms\n",
            "video 1/1 (frame 147/154) /content/sample6.mp4: 640x640 8 fishs, 251.1ms\n",
            "video 1/1 (frame 148/154) /content/sample6.mp4: 640x640 8 fishs, 241.2ms\n",
            "video 1/1 (frame 149/154) /content/sample6.mp4: 640x640 8 fishs, 256.7ms\n",
            "video 1/1 (frame 150/154) /content/sample6.mp4: 640x640 8 fishs, 253.1ms\n",
            "video 1/1 (frame 151/154) /content/sample6.mp4: 640x640 8 fishs, 242.7ms\n",
            "video 1/1 (frame 152/154) /content/sample6.mp4: 640x640 8 fishs, 304.4ms\n",
            "video 1/1 (frame 153/154) /content/sample6.mp4: 640x640 8 fishs, 260.9ms\n",
            "video 1/1 (frame 154/154) /content/sample6.mp4: 640x640 8 fishs, 244.8ms\n",
            "Speed: 5.7ms preprocess, 259.7ms inference, 1.2ms postprocess per image at shape (1, 3, 640, 640)\n",
            "Results saved to \u001b[1mruns/detect/track3\u001b[0m\n",
            "154 labels saved to runs/detect/track3/labels\n"
          ]
        }
      ]
    },
    {
      "cell_type": "code",
      "source": [
        "import os\n",
        "import re\n",
        "import pandas as pd\n",
        "import matplotlib.pyplot as plt\n",
        "\n",
        "# Directory where tracking results are saved\n",
        "results_dir = 'runs/detect/track/labels'\n",
        "# List to store the positional data\n",
        "data = []\n",
        "\n",
        "# Regular expression to extract frame number\n",
        "frame_re = re.compile(r'_([0-9]+)\\.txt$')\n",
        "\n",
        "# Iterate through the result files\n",
        "for file in os.listdir(results_dir):\n",
        "    if file.endswith('.txt'):\n",
        "        match = frame_re.search(file)\n",
        "        if match:\n",
        "            frame_number = int(match.group(1))\n",
        "            file_path = os.path.join(results_dir, file)\n",
        "            with open(file_path, 'r') as f:\n",
        "                for line in f:\n",
        "                    parts = line.strip().split()\n",
        "                    if len(parts) == 7:  # Adjust based on actual format\n",
        "                        class_id, x_center, y_center, width, height, conf, track_id = map(float, parts)\n",
        "                        data.append([frame_number, track_id, x_center, y_center, width, height, conf])\n",
        "\n",
        "# Create a DataFrame from the positional data\n",
        "df = pd.DataFrame(data, columns=['frame', 'track_id', 'x_center', 'y_center', 'width', 'height', 'conf'])\n",
        "\n",
        "# Display the DataFrame\n",
        "df.head()\n",
        "\n",
        "# Convert frame numbers to integers for sorting\n",
        "df['frame'] = df['frame'].astype(int)\n",
        "\n",
        "# Sort the DataFrame by frame number\n",
        "df = df.sort_values('frame')\n",
        "\n",
        "# Create a scatter plot\n",
        "plt.figure(figsize=(12, 8))\n",
        "unique_track_ids = df['track_id'].unique()\n",
        "colors = plt.cm.get_cmap('hsv', len(unique_track_ids))\n",
        "\n",
        "for i, track_id in enumerate(unique_track_ids):\n",
        "    track_df = df[df['track_id'] == track_id]\n",
        "    plt.scatter(track_df['x_center'], track_df['y_center'], color=colors(i), label=f'Track {int(track_id)}')\n",
        "\n",
        "plt.xlabel('X Center Position')\n",
        "plt.ylabel('Y Center Position')\n",
        "plt.title('Fish Positions Over Time')\n",
        "plt.legend()\n",
        "plt.show()\n"
      ],
      "metadata": {
        "id": "4f5SZ5z-4Qdq",
        "outputId": "4616b763-ce77-42bc-f2e9-0c6acd8ce5bf",
        "colab": {
          "base_uri": "https://localhost:8080/",
          "height": 540
        }
      },
      "execution_count": 26,
      "outputs": [
        {
          "output_type": "stream",
          "name": "stderr",
          "text": [
            "<ipython-input-26-dc096d379dfe>:43: MatplotlibDeprecationWarning: The get_cmap function was deprecated in Matplotlib 3.7 and will be removed two minor releases later. Use ``matplotlib.colormaps[name]`` or ``matplotlib.colormaps.get_cmap(obj)`` instead.\n",
            "  colors = plt.cm.get_cmap('hsv', len(unique_track_ids))\n"
          ]
        },
        {
          "output_type": "display_data",
          "data": {
            "text/plain": [
              "<Figure size 1200x800 with 1 Axes>"
            ],
            "image/png": "[encoded data removed]"
          },
          "metadata": {}
        }
      ]
    },
    {
      "cell_type": "code",
      "source": [
        "# Inspect a sample file\n",
        "sample_file_path = os.path.join(results_dir, os.listdir(results_dir)[0])\n",
        "with open(sample_file_path, 'r') as f:\n",
        "    sample_lines = f.readlines()\n",
        "\n",
        "print(\"Sample lines from the file:\")\n",
        "for line in sample_lines[:5]:  # Print first 5 lines\n",
        "    print(line.strip())\n"
      ],
      "metadata": {
        "id": "fqZ1Wl155fUb",
        "outputId": "52459c6a-9d6e-4a10-ff96-cef4acd548d0",
        "colab": {
          "base_uri": "https://localhost:8080/"
        }
      },
      "execution_count": 24,
      "outputs": [
        {
          "output_type": "stream",
          "name": "stdout",
          "text": [
            "Sample lines from the file:\n",
            "0 0.444729 0.399344 0.10306 0.2115 0.946752 1\n",
            "0 0.328988 0.383969 0.175237 0.264336 0.975617 2\n",
            "0 0.652684 0.306897 0.197668 0.150769 0.931909 3\n",
            "0 0.228032 0.446732 0.0924271 0.225159 0.896716 4\n",
            "0 0.0913707 0.892146 0.096029 0.120554 0.596395 6\n"
          ]
        }
      ]
    },
    {
      "cell_type": "markdown",
      "source": [
        "# 4. Export\n",
        "\n",
        "Export a YOLOv8 model to any supported format below with the `format` argument, i.e. `format=onnx`. See [YOLOv8 Export Docs](https://docs.ultralytics.com/modes/export/) for more information.\n",
        "\n",
        "- 💡 ProTip: Export to [ONNX](https://docs.ultralytics.com/integrations/onnx/) or [OpenVINO](https://docs.ultralytics.com/integrations/openvino/) for up to 3x CPU speedup.  \n",
        "- 💡 ProTip: Export to [TensorRT](https://docs.ultralytics.com/integrations/tensorrt/) for up to 5x GPU speedup.\n",
        "\n",
        "| Format                                                                   | `format` Argument | Model                     | Metadata | Arguments                                                            |\n",
        "|--------------------------------------------------------------------------|-------------------|---------------------------|----------|----------------------------------------------------------------------|\n",
        "| [PyTorch](https://pytorch.org/)                                          | -                 | `yolov8n.pt`              | ✅        | -                                                                    |\n",
        "| [TorchScript](https://docs.ultralytics.com/integrations/torchscript)     | `torchscript`     | `yolov8n.torchscript`     | ✅        | `imgsz`, `optimize`, `batch`                                         |\n",
        "| [ONNX](https://docs.ultralytics.com/integrations/onnx)                   | `onnx`            | `yolov8n.onnx`            | ✅        | `imgsz`, `half`, `dynamic`, `simplify`, `opset`, `batch`             |\n",
        "| [OpenVINO](https://docs.ultralytics.com/integrations/openvino)           | `openvino`        | `yolov8n_openvino_model/` | ✅        | `imgsz`, `half`, `int8`, `batch`                                     |\n",
        "| [TensorRT](https://docs.ultralytics.com/integrations/tensorrt)           | `engine`          | `yolov8n.engine`          | ✅        | `imgsz`, `half`, `dynamic`, `simplify`, `workspace`, `int8`, `batch` |\n",
        "| [CoreML](https://docs.ultralytics.com/integrations/coreml)               | `coreml`          | `yolov8n.mlpackage`       | ✅        | `imgsz`, `half`, `int8`, `nms`, `batch`                              |\n",
        "| [TF SavedModel](https://docs.ultralytics.com/integrations/tf-savedmodel) | `saved_model`     | `yolov8n_saved_model/`    | ✅        | `imgsz`, `keras`, `int8`, `batch`                                    |\n",
        "| [TF GraphDef](https://docs.ultralytics.com/integrations/tf-graphdef)     | `pb`              | `yolov8n.pb`              | ❌        | `imgsz`, `batch`                                                     |\n",
        "| [TF Lite](https://docs.ultralytics.com/integrations/tflite)              | `tflite`          | `yolov8n.tflite`          | ✅        | `imgsz`, `half`, `int8`, `batch`                                     |\n",
        "| [TF Edge TPU](https://docs.ultralytics.com/integrations/edge-tpu)        | `edgetpu`         | `yolov8n_edgetpu.tflite`  | ✅        | `imgsz`, `batch`                                                     |\n",
        "| [TF.js](https://docs.ultralytics.com/integrations/tfjs)                  | `tfjs`            | `yolov8n_web_model/`      | ✅        | `imgsz`, `half`, `int8`, `batch`                                     |\n",
        "| [PaddlePaddle](https://docs.ultralytics.com/integrations/paddlepaddle)   | `paddle`          | `yolov8n_paddle_model/`   | ✅        | `imgsz`, `batch`                                                     |\n",
        "| [NCNN](https://docs.ultralytics.com/integrations/ncnn)                   | `ncnn`            | `yolov8n_ncnn_model/`     | ✅        | `imgsz`, `half`, `batch`                                             |"
      ],
      "metadata": {
        "id": "nPZZeNrLCQG6"
      }
    },
    {
      "cell_type": "code",
      "source": [
        "!yolo export model=yolov8n.pt format=torchscript"
      ],
      "metadata": {
        "colab": {
          "base_uri": "https://localhost:8080/"
        },
        "id": "CYIjW4igCjqD",
        "outputId": "947e65cc-79c8-4713-bfd4-3139903ac05a"
      },
      "execution_count": null,
      "outputs": [
        {
          "output_type": "stream",
          "name": "stdout",
          "text": [
            "Ultralytics YOLOv8.2.3 🚀 Python-3.10.12 torch-2.2.1+cu121 CPU (Intel Xeon 2.00GHz)\n",
            "YOLOv8n summary (fused): 168 layers, 3151904 parameters, 0 gradients, 8.7 GFLOPs\n",
            "\n",
            "\u001b[34m\u001b[1mPyTorch:\u001b[0m starting from 'yolov8n.pt' with input shape (1, 3, 640, 640) BCHW and output shape(s) (1, 84, 8400) (6.2 MB)\n",
            "\n",
            "\u001b[34m\u001b[1mTorchScript:\u001b[0m starting export with torch 2.2.1+cu121...\n",
            "\u001b[34m\u001b[1mTorchScript:\u001b[0m export success ✅ 2.0s, saved as 'yolov8n.torchscript' (12.4 MB)\n",
            "\n",
            "Export complete (4.0s)\n",
            "Results saved to \u001b[1m/content\u001b[0m\n",
            "Predict:         yolo predict task=detect model=yolov8n.torchscript imgsz=640  \n",
            "Validate:        yolo val task=detect model=yolov8n.torchscript imgsz=640 data=coco.yaml  \n",
            "Visualize:       https://netron.app\n",
            "💡 Learn more at https://docs.ultralytics.com/modes/export\n"
          ]
        }
      ]
    },
    {
      "cell_type": "markdown",
      "source": [
        "# 5. Python Usage\n",
        "\n",
        "YOLOv8 was reimagined using Python-first principles for the most seamless Python YOLO experience yet. YOLOv8 models can be loaded from a trained checkpoint or created from scratch. Then methods are used to train, val, predict, and export the model. See detailed Python usage examples in the [YOLOv8 Python Docs](https://docs.ultralytics.com/usage/python/)."
      ],
      "metadata": {
        "id": "kUMOQ0OeDBJG"
      }
    },
    {
      "cell_type": "code",
      "source": [
        "from ultralytics import YOLO\n",
        "\n",
        "# Load a model\n",
        "model = YOLO('yolov8n.yaml')  # build a new model from scratch\n",
        "model = YOLO('yolov8n.pt')  # load a pretrained model (recommended for training)\n",
        "\n",
        "# Use the model\n",
        "results = model.train(data='coco8.yaml', epochs=3)  # train the model\n",
        "results = model.val()  # evaluate model performance on the validation set\n",
        "results = model('https://ultralytics.com/images/bus.jpg')  # predict on an image\n",
        "results = model.export(format='onnx')  # export the model to ONNX format"
      ],
      "metadata": {
        "id": "bpF9-vS_DAaf"
      },
      "execution_count": null,
      "outputs": []
    },
    {
      "cell_type": "markdown",
      "source": [
        "# 6. Tasks\n",
        "\n",
        "YOLOv8 can train, val, predict and export models for the most common tasks in vision AI: [Detect](https://docs.ultralytics.com/tasks/detect/), [Segment](https://docs.ultralytics.com/tasks/segment/), [Classify](https://docs.ultralytics.com/tasks/classify/) and [Pose](https://docs.ultralytics.com/tasks/pose/). See [YOLOv8 Tasks Docs](https://docs.ultralytics.com/tasks/) for more information.\n",
        "\n",
        "<br><img width=\"1024\" src=\"https://raw.githubusercontent.com/ultralytics/assets/main/im/banner-tasks.png\">\n"
      ],
      "metadata": {
        "id": "Phm9ccmOKye5"
      }
    },
    {
      "cell_type": "markdown",
      "source": [
        "## 1. Detection\n",
        "\n",
        "YOLOv8 _detection_ models have no suffix and are the default YOLOv8 models, i.e. `yolov8n.pt` and are pretrained on COCO. See [Detection Docs](https://docs.ultralytics.com/tasks/detect/) for full details.\n"
      ],
      "metadata": {
        "id": "yq26lwpYK1lq"
      }
    },
    {
      "cell_type": "code",
      "source": [
        "# Load YOLOv8n, train it on COCO128 for 3 epochs and predict an image with it\n",
        "from ultralytics import YOLO\n",
        "\n",
        "model = YOLO('yolov8n.pt')  # load a pretrained YOLOv8n detection model\n",
        "model.train(data='coco8.yaml', epochs=3)  # train the model\n",
        "model('https://ultralytics.com/images/bus.jpg')  # predict on an image"
      ],
      "metadata": {
        "id": "8Go5qqS9LbC5"
      },
      "execution_count": null,
      "outputs": []
    },
    {
      "cell_type": "markdown",
      "source": [
        "## 2. Segmentation\n",
        "\n",
        "YOLOv8 _segmentation_ models use the `-seg` suffix, i.e. `yolov8n-seg.pt` and are pretrained on COCO. See [Segmentation Docs](https://docs.ultralytics.com/tasks/segment/) for full details.\n"
      ],
      "metadata": {
        "id": "7ZW58jUzK66B"
      }
    },
    {
      "cell_type": "code",
      "source": [
        "# Load YOLOv8n-seg, train it on COCO128-seg for 3 epochs and predict an image with it\n",
        "from ultralytics import YOLO\n",
        "\n",
        "model = YOLO('yolov8n-seg.pt')  # load a pretrained YOLOv8n segmentation model\n",
        "model.train(data='coco8-seg.yaml', epochs=3)  # train the model\n",
        "model('https://ultralytics.com/images/bus.jpg')  # predict on an image"
      ],
      "metadata": {
        "id": "WFPJIQl_L5HT"
      },
      "execution_count": null,
      "outputs": []
    },
    {
      "cell_type": "markdown",
      "source": [
        "## 3. Classification\n",
        "\n",
        "YOLOv8 _classification_ models use the `-cls` suffix, i.e. `yolov8n-cls.pt` and are pretrained on ImageNet. See [Classification Docs](https://docs.ultralytics.com/tasks/classify/) for full details.\n"
      ],
      "metadata": {
        "id": "ax3p94VNK9zR"
      }
    },
    {
      "cell_type": "code",
      "source": [
        "# Load YOLOv8n-cls, train it on mnist160 for 3 epochs and predict an image with it\n",
        "from ultralytics import YOLO\n",
        "\n",
        "model = YOLO('yolov8n-cls.pt')  # load a pretrained YOLOv8n classification model\n",
        "model.train(data='mnist160', epochs=3)  # train the model\n",
        "model('https://ultralytics.com/images/bus.jpg')  # predict on an image"
      ],
      "metadata": {
        "id": "5q9Zu6zlL5rS"
      },
      "execution_count": null,
      "outputs": []
    },
    {
      "cell_type": "markdown",
      "source": [
        "## 4. Pose\n",
        "\n",
        "YOLOv8 _pose_ models use the `-pose` suffix, i.e. `yolov8n-pose.pt` and are pretrained on COCO Keypoints. See [Pose Docs](https://docs.ultralytics.com/tasks/pose/) for full details."
      ],
      "metadata": {
        "id": "SpIaFLiO11TG"
      }
    },
    {
      "cell_type": "code",
      "source": [
        "# Load YOLOv8n-pose, train it on COCO8-pose for 3 epochs and predict an image with it\n",
        "from ultralytics import YOLO\n",
        "\n",
        "model = YOLO('yolov8n-pose.pt')  # load a pretrained YOLOv8n pose model\n",
        "model.train(data='coco8-pose.yaml', epochs=3)  # train the model\n",
        "model('https://ultralytics.com/images/bus.jpg')  # predict on an image"
      ],
      "metadata": {
        "id": "si4aKFNg19vX"
      },
      "execution_count": null,
      "outputs": []
    },
    {
      "cell_type": "markdown",
      "source": [
        "## 4. Oriented Bounding Boxes (OBB)\n",
        "\n",
        "YOLOv8 _OBB_ models use the `-obb` suffix, i.e. `yolov8n-obb.pt` and are pretrained on the DOTA dataset. See [OBB Docs](https://docs.ultralytics.com/tasks/obb/) for full details."
      ],
      "metadata": {
        "id": "cf5j_T9-B5F0"
      }
    },
    {
      "cell_type": "code",
      "source": [
        "# Load YOLOv8n-obb, train it on DOTA8 for 3 epochs and predict an image with it\n",
        "from ultralytics import YOLO\n",
        "\n",
        "model = YOLO('yolov8n-obb.pt')  # load a pretrained YOLOv8n OBB model\n",
        "model.train(data='coco8-dota.yaml', epochs=3)  # train the model\n",
        "model('https://ultralytics.com/images/bus.jpg')  # predict on an image"
      ],
      "metadata": {
        "id": "IJNKClOOB5YS"
      },
      "execution_count": null,
      "outputs": []
    },
    {
      "cell_type": "markdown",
      "metadata": {
        "id": "IEijrePND_2I"
      },
      "source": [
        "# Appendix\n",
        "\n",
        "Additional content below."
      ]
    },
    {
      "cell_type": "code",
      "source": [
        "# Pip install from source\n",
        "!pip install git+https://github.com/ultralytics/ultralytics@main"
      ],
      "metadata": {
        "id": "pIdE6i8C3LYp"
      },
      "execution_count": null,
      "outputs": []
    },
    {
      "cell_type": "code",
      "source": [
        "# Git clone and run tests on updates branch\n",
        "!git clone https://github.com/ultralytics/ultralytics -b main\n",
        "%pip install -qe ultralytics"
      ],
      "metadata": {
        "id": "uRKlwxSJdhd1"
      },
      "execution_count": null,
      "outputs": []
    },
    {
      "cell_type": "code",
      "source": [
        "# Run tests (Git clone only)\n",
        "!pytest ultralytics/tests"
      ],
      "metadata": {
        "id": "GtPlh7mcCGZX"
      },
      "execution_count": null,
      "outputs": []
    },
    {
      "cell_type": "code",
      "source": [
        "# Validate multiple models\n",
        "for x in 'nsmlx':\n",
        "  !yolo val model=yolov8{x}.pt data=coco.yaml"
      ],
      "metadata": {
        "id": "Wdc6t_bfzDDk"
      },
      "execution_count": null,
      "outputs": []
    }
  ]
}